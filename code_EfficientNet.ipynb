{
 "cells": [
  {
   "cell_type": "code",
   "execution_count": 2,
   "metadata": {},
   "outputs": [],
   "source": [
    "import os\n",
    "import numpy as np\n",
    "import matplotlib.pyplot as plt\n",
    "import glob\n",
    "import pandas as pd\n",
    "import scipy.io\n",
    "\n",
    "# Tensorflow\n",
    "from tensorflow.keras.applications import EfficientNetB0\n",
    "from tensorflow.keras.layers import GlobalAveragePooling2D, Dense, Input, Lambda\n",
    "from tensorflow.keras.models import Model\n",
    "import tensorflow as tf\n",
    "\n",
    "from sklearn.preprocessing import StandardScaler\n",
    "from sklearn.model_selection import train_test_split\n",
    "\n"
   ]
  },
  {
   "cell_type": "markdown",
   "metadata": {},
   "source": [
    "## Procesamiento de datos"
   ]
  },
  {
   "cell_type": "markdown",
   "metadata": {},
   "source": [
    "### Manipulación de las cabeceras con los archivos .hea"
   ]
  },
  {
   "cell_type": "code",
   "execution_count": 3,
   "metadata": {},
   "outputs": [],
   "source": [
    "file_path = 'C:/Users/Pedro/Documents/GitHub/TFM/WFDB_ChapmanShaoxing'\n",
    "#file_path = 'C:/Users/ca01770/Documents/GitHub/TFM/WFDB_ChapmanShaoxing'\n",
    "path = os.path.join(file_path, '*.hea')"
   ]
  },
  {
   "cell_type": "code",
   "execution_count": 21,
   "metadata": {},
   "outputs": [],
   "source": [
    "# Lista para almacenar los datos extraídos\n",
    "data_list = []\n",
    "\n",
    "'''\n",
    "En este bucle iteramos sobre cada archivo .hea \n",
    "en el directorio, el cual tiene la los datos\n",
    "'''\n",
    "for filepath in glob.glob(path):\n",
    "    try:\n",
    "        with open(filepath, 'r') as f:\n",
    "            lines = f.readlines()\n",
    "\n",
    "        subject_id = lines[0].split()[0]\n",
    "        leads = int(lines[0].split()[1])\n",
    "        samp_freq = int(lines[0].split()[2])\n",
    "        samples = int(lines[0].split()[3])\n",
    "\n",
    "        lead_info = []\n",
    "        for i in range(1, leads + 1):\n",
    "            parts = lines[i].split()\n",
    "            lead_type = parts[-1]\n",
    "            lead_gain = float(parts[2].split('/')[0])\n",
    "            first_value = parts[5]\n",
    "            last_value = parts[6]\n",
    "            lead_info.append((lead_type, lead_gain, first_value, last_value))\n",
    "\n",
    "        data_list.append({\n",
    "            \"path\": os.path.splitext(filepath)[0],\n",
    "            \"filename\": subject_id,\n",
    "            \"age\": lines[13].split()[1],\n",
    "            \"sex\": lines[14].split()[1],\n",
    "            \"diagnosis\": lines[15].split()[1],\n",
    "            \"leads\": str(leads),  # Convertir a cadena\n",
    "            \"frequency\": str(samp_freq),  # Convertir a cadena\n",
    "            \"samples\": str(samples),  # Convertir a cadena\n",
    "            **{f\"lead_{chr(65+i)}_type\": info[0] for i, info in enumerate(lead_info)},\n",
    "            **{f\"lead_{chr(65+i)}_gain\": str(info[1]) for i, info in enumerate(lead_info)},  # Convertir a cadena\n",
    "            **{f\"lead_{chr(65+i)}_first\": info[2] for i, info in enumerate(lead_info)},\n",
    "            **{f\"lead_{chr(65+i)}_last\": info[3] for i, info in enumerate(lead_info)}\n",
    "        })\n",
    "\n",
    "    except Exception as e:\n",
    "        print(f\"Error processing {filepath}: {e}\")\n",
    "\n",
    "# Crear un DataFrame y guardar en CSV\n",
    "df = pd.DataFrame(data_list)\n",
    "df.to_csv('extracted_ecg_data.csv', index=False)"
   ]
  },
  {
   "cell_type": "code",
   "execution_count": 4,
   "metadata": {},
   "outputs": [
    {
     "name": "stdout",
     "output_type": "stream",
     "text": [
      "                                                path  ... lead_L_last\n",
      "0  C:/Users/Pedro/Documents/GitHub/TFM/WFDB_Chapm...  ...       32579\n",
      "1  C:/Users/Pedro/Documents/GitHub/TFM/WFDB_Chapm...  ...       31542\n",
      "2  C:/Users/Pedro/Documents/GitHub/TFM/WFDB_Chapm...  ...       24967\n",
      "3  C:/Users/Pedro/Documents/GitHub/TFM/WFDB_Chapm...  ...       -8125\n",
      "4  C:/Users/Pedro/Documents/GitHub/TFM/WFDB_Chapm...  ...      -11358\n",
      "\n",
      "[5 rows x 56 columns]\n",
      "                age    leads  ...   lead_K_last   lead_L_last\n",
      "count  10247.000000  10247.0  ...  10247.000000  10247.000000\n",
      "mean      60.088123     12.0  ...    789.911877   1810.554113\n",
      "std       17.024994      0.0  ...  19393.128099  19467.671204\n",
      "min        4.000000     12.0  ... -32767.000000 -32762.000000\n",
      "25%       50.000000     12.0  ... -16675.500000 -15901.500000\n",
      "50%       62.000000     12.0  ...   1925.000000   4083.000000\n",
      "75%       72.000000     12.0  ...  17882.000000  18913.500000\n",
      "max       89.000000     12.0  ...  32763.000000  32767.000000\n",
      "\n",
      "[8 rows x 40 columns]\n"
     ]
    }
   ],
   "source": [
    "# Carga del archivo CSV\n",
    "data_path = 'extracted_ecg_data.csv'\n",
    "data = pd.read_csv(data_path)\n",
    "\n",
    "# Mostrar las primeras filas del DataFrame\n",
    "print(data.head())\n",
    "print(data.describe())"
   ]
  },
  {
   "cell_type": "markdown",
   "metadata": {},
   "source": [
    "### Manipulación de las señales de ECG con los datos .mat"
   ]
  },
  {
   "cell_type": "markdown",
   "metadata": {},
   "source": [
    "### Cargamos las señales"
   ]
  },
  {
   "cell_type": "code",
   "execution_count": 5,
   "metadata": {},
   "outputs": [],
   "source": [
    "def load_mat_files(subject_ids, directory):\n",
    "    ecg_data = []\n",
    "    for subject_id in subject_ids:\n",
    "        file_path = os.path.join(directory, f'{subject_id}.mat')\n",
    "        mat_contents = scipy.io.loadmat(file_path)\n",
    "        \n",
    "        # Cogemos los valores del ECG almacenados en la varible 'val'\n",
    "        ecg_signals = mat_contents['val']\n",
    "        ecg_data.append(ecg_signals)\n",
    "    return np.array(ecg_data)\n",
    "\n",
    "ecg_signals = load_mat_files(data['filename'].tolist(), file_path)"
   ]
  },
  {
   "cell_type": "markdown",
   "metadata": {},
   "source": [
    "### Preprocesamiento y Normalización de Señales de ECG"
   ]
  },
  {
   "cell_type": "code",
   "execution_count": 6,
   "metadata": {},
   "outputs": [],
   "source": [
    "# Normalizar las señales\n",
    "scaler = StandardScaler()\n",
    "ecg_signals_normalized = scaler.fit_transform(ecg_signals.reshape(-1, ecg_signals.shape[-1])).reshape(ecg_signals.shape)"
   ]
  },
  {
   "cell_type": "markdown",
   "metadata": {},
   "source": [
    "#### Redimensionamiento de las señales de ECG"
   ]
  },
  {
   "cell_type": "code",
   "execution_count": 7,
   "metadata": {},
   "outputs": [
    {
     "name": "stdout",
     "output_type": "stream",
     "text": [
      "(10247, 12, 5000)\n",
      "(10247, 5000, 12, 3)\n"
     ]
    }
   ],
   "source": [
    "# Verificar la forma actual de las señales de ECG\n",
    "print(ecg_signals_normalized.shape)  # Shape --> num_samples, num_leads, signal_length\n",
    "\n",
    "# Asegurar que la forma sea --> num_samples, signal_length, num_leads\n",
    "ecg_signals_reshaped = ecg_signals_normalized.transpose((0, 2, 1))\n",
    "\n",
    "'''\n",
    "Problema con EfficientNet --> Espera 3 canales, por lo tanto \n",
    "duplicamos el canal de 1D que tenemos, tres veces\n",
    "'''\n",
    "# Redimensionar para añadir los canales y ajustarlo a EfficientNet\n",
    "num_samples, signal_length, num_leads = ecg_signals_reshaped.shape\n",
    "ecg_signals_reshaped = ecg_signals_reshaped.reshape(num_samples, signal_length, num_leads, 1)\n",
    "#ecg_signals_rgb = np.tile(ecg_signals_reshaped, (1, 1, 1, 3))\n",
    "ecg_signals_rgb = np.repeat(ecg_signals_reshaped, 3, axis=3)  # Usar repeat en lugar de tile para asegurar exactamente 3 canales\n",
    "\n",
    "\n",
    "print(ecg_signals_rgb.shape)  # Shape --> num_samples, signal_length, num_leads, 3"
   ]
  },
  {
   "cell_type": "markdown",
   "metadata": {},
   "source": [
    "#### Transformaicón de etiquetas"
   ]
  },
  {
   "cell_type": "code",
   "execution_count": 8,
   "metadata": {},
   "outputs": [
    {
     "name": "stdout",
     "output_type": "stream",
     "text": [
      "(10247, 54)\n"
     ]
    }
   ],
   "source": [
    "from sklearn.preprocessing import MultiLabelBinarizer\n",
    "\n",
    "# Transformamos las etiquetas\n",
    "labels = data['diagnosis']\n",
    "labels_split = labels.apply(lambda x: x.split(','))\n",
    "mlb = MultiLabelBinarizer()\n",
    "labels_encoded = mlb.fit_transform(labels_split)\n",
    "\n",
    "# Print para verificar las etiquetas transfoormadas\n",
    "print(labels_encoded.shape)  # Shape --> num_samples, num_labels\n"
   ]
  },
  {
   "cell_type": "code",
   "execution_count": 9,
   "metadata": {},
   "outputs": [
    {
     "name": "stdout",
     "output_type": "stream",
     "text": [
      "Etiquetas originales:\n",
      "['164889003,59118001,164934002', '426177001,164934002', '426177001', '164890007,429622005,428750005', '426177001', '164889003,164934002', '426783006', '426177001', '426177001', '426177001,55827005']\n",
      "\n",
      "Etiquetas transformadas (estan en formato bisnario):\n",
      "[[0 0 0 0 0 1 0 0 0 0 0 0 1 0 0 0 0 0 0 0 0 0 0 0 0 0 0 0 0 0 0 0 0 0 0 0\n",
      "  0 0 0 0 0 0 0 0 0 0 1 0 0 0 0 0 0 0]\n",
      " [0 0 0 0 0 0 0 0 0 0 0 0 1 0 0 0 0 0 0 0 0 0 0 0 0 0 0 0 0 0 0 0 0 0 1 0\n",
      "  0 0 0 0 0 0 0 0 0 0 0 0 0 0 0 0 0 0]\n",
      " [0 0 0 0 0 0 0 0 0 0 0 0 0 0 0 0 0 0 0 0 0 0 0 0 0 0 0 0 0 0 0 0 0 0 1 0\n",
      "  0 0 0 0 0 0 0 0 0 0 0 0 0 0 0 0 0 0]\n",
      " [0 0 0 0 0 0 1 0 0 0 0 0 0 0 0 0 0 0 0 0 0 0 0 0 0 0 0 0 0 0 0 0 0 0 0 0\n",
      "  0 0 0 0 1 1 0 0 0 0 0 0 0 0 0 0 0 0]\n",
      " [0 0 0 0 0 0 0 0 0 0 0 0 0 0 0 0 0 0 0 0 0 0 0 0 0 0 0 0 0 0 0 0 0 0 1 0\n",
      "  0 0 0 0 0 0 0 0 0 0 0 0 0 0 0 0 0 0]\n",
      " [0 0 0 0 0 1 0 0 0 0 0 0 1 0 0 0 0 0 0 0 0 0 0 0 0 0 0 0 0 0 0 0 0 0 0 0\n",
      "  0 0 0 0 0 0 0 0 0 0 0 0 0 0 0 0 0 0]\n",
      " [0 0 0 0 0 0 0 0 0 0 0 0 0 0 0 0 0 0 0 0 0 0 0 0 0 0 0 0 0 0 0 0 0 0 0 0\n",
      "  1 0 0 0 0 0 0 0 0 0 0 0 0 0 0 0 0 0]\n",
      " [0 0 0 0 0 0 0 0 0 0 0 0 0 0 0 0 0 0 0 0 0 0 0 0 0 0 0 0 0 0 0 0 0 0 1 0\n",
      "  0 0 0 0 0 0 0 0 0 0 0 0 0 0 0 0 0 0]\n",
      " [0 0 0 0 0 0 0 0 0 0 0 0 0 0 0 0 0 0 0 0 0 0 0 0 0 0 0 0 0 0 0 0 0 0 1 0\n",
      "  0 0 0 0 0 0 0 0 0 0 0 0 0 0 0 0 0 0]\n",
      " [0 0 0 0 0 0 0 0 0 0 0 0 0 0 0 0 0 0 0 0 0 0 0 0 0 0 0 0 0 0 0 0 0 0 1 0\n",
      "  0 0 0 0 0 0 0 0 0 1 0 0 0 0 0 0 0 0]]\n",
      "\n",
      "Clases únicas:\n",
      "['11157007' '111975006' '13640000' '164865005' '164873001' '164889003'\n",
      " '164890007' '164909002' '164912004' '164917005' '164930006' '164931005'\n",
      " '164934002' '164937009' '164942001' '164947007' '17338001' '17366009'\n",
      " '195042002' '195060002' '195101003' '233897008' '233917008' '251146004'\n",
      " '251164006' '251166008' '251173003' '251180001' '251198002' '251199005'\n",
      " '270492004' '27885002' '284470004' '39732003' '426177001' '426761007'\n",
      " '426783006' '426995002' '427084000' '428417006' '428750005' '429622005'\n",
      " '446358003' '47665007' '54016002' '55827005' '59118001' '59931005'\n",
      " '67751000119106' '698252002' '713422000' '74390002' '75532003' '89792004']\n",
      "\n",
      "Forma de la matriz de etiquetas:\n",
      "(10247, 54)\n",
      "Original: 164889003,59118001,164934002 -> Transformada: [0 0 0 0 0 1 0 0 0 0 0 0 1 0 0 0 0 0 0 0 0 0 0 0 0 0 0 0 0 0 0 0 0 0 0 0 0\n",
      " 0 0 0 0 0 0 0 0 0 1 0 0 0 0 0 0 0]\n",
      "Original: 426177001,164934002 -> Transformada: [0 0 0 0 0 0 0 0 0 0 0 0 1 0 0 0 0 0 0 0 0 0 0 0 0 0 0 0 0 0 0 0 0 0 1 0 0\n",
      " 0 0 0 0 0 0 0 0 0 0 0 0 0 0 0 0 0]\n",
      "Original: 426177001 -> Transformada: [0 0 0 0 0 0 0 0 0 0 0 0 0 0 0 0 0 0 0 0 0 0 0 0 0 0 0 0 0 0 0 0 0 0 1 0 0\n",
      " 0 0 0 0 0 0 0 0 0 0 0 0 0 0 0 0 0]\n",
      "Original: 164890007,429622005,428750005 -> Transformada: [0 0 0 0 0 0 1 0 0 0 0 0 0 0 0 0 0 0 0 0 0 0 0 0 0 0 0 0 0 0 0 0 0 0 0 0 0\n",
      " 0 0 0 1 1 0 0 0 0 0 0 0 0 0 0 0 0]\n",
      "Original: 426177001 -> Transformada: [0 0 0 0 0 0 0 0 0 0 0 0 0 0 0 0 0 0 0 0 0 0 0 0 0 0 0 0 0 0 0 0 0 0 1 0 0\n",
      " 0 0 0 0 0 0 0 0 0 0 0 0 0 0 0 0 0]\n",
      "Original: 164889003,164934002 -> Transformada: [0 0 0 0 0 1 0 0 0 0 0 0 1 0 0 0 0 0 0 0 0 0 0 0 0 0 0 0 0 0 0 0 0 0 0 0 0\n",
      " 0 0 0 0 0 0 0 0 0 0 0 0 0 0 0 0 0]\n",
      "Original: 426783006 -> Transformada: [0 0 0 0 0 0 0 0 0 0 0 0 0 0 0 0 0 0 0 0 0 0 0 0 0 0 0 0 0 0 0 0 0 0 0 0 1\n",
      " 0 0 0 0 0 0 0 0 0 0 0 0 0 0 0 0 0]\n",
      "Original: 426177001 -> Transformada: [0 0 0 0 0 0 0 0 0 0 0 0 0 0 0 0 0 0 0 0 0 0 0 0 0 0 0 0 0 0 0 0 0 0 1 0 0\n",
      " 0 0 0 0 0 0 0 0 0 0 0 0 0 0 0 0 0]\n",
      "Original: 426177001 -> Transformada: [0 0 0 0 0 0 0 0 0 0 0 0 0 0 0 0 0 0 0 0 0 0 0 0 0 0 0 0 0 0 0 0 0 0 1 0 0\n",
      " 0 0 0 0 0 0 0 0 0 0 0 0 0 0 0 0 0]\n",
      "Original: 426177001,55827005 -> Transformada: [0 0 0 0 0 0 0 0 0 0 0 0 0 0 0 0 0 0 0 0 0 0 0 0 0 0 0 0 0 0 0 0 0 0 1 0 0\n",
      " 0 0 0 0 0 0 0 0 1 0 0 0 0 0 0 0 0]\n"
     ]
    }
   ],
   "source": [
    "# Verificar las etiquetas originales y transformadas\n",
    "print(\"Etiquetas originales:\")\n",
    "print(labels.head(10).tolist()) # aqui entiendo que el paciente puede tener más de un diagnóstico\n",
    "\n",
    "print(\"\\nEtiquetas transformadas (estan en formato bisnario):\")\n",
    "print(labels_encoded[:10])\n",
    "\n",
    "# Verificar las clases únicas\n",
    "print(\"\\nClases únicas:\")\n",
    "print(mlb.classes_)\n",
    "\n",
    "# Shape de la matriz de etiquetas transformadas\n",
    "print(\"\\nForma de la matriz de etiquetas:\")\n",
    "print(labels_encoded.shape)\n",
    "\n",
    "# Mostrar algunas etiquetas originales y sus transformaciones\n",
    "for i in range(10):\n",
    "    print(f\"Original: {labels.iloc[i]} -> Transformada: {labels_encoded[i]}\")\n"
   ]
  },
  {
   "cell_type": "markdown",
   "metadata": {},
   "source": [
    "#### División del conjunto de entrenamiento"
   ]
  },
  {
   "cell_type": "code",
   "execution_count": 10,
   "metadata": {},
   "outputs": [
    {
     "name": "stdout",
     "output_type": "stream",
     "text": [
      "(8197, 5000, 12, 3) (2050, 5000, 12, 3)\n",
      "(8197, 54) (2050, 54)\n"
     ]
    }
   ],
   "source": [
    "X_train, X_test, y_train, y_test = train_test_split(ecg_signals_rgb, labels_encoded, test_size=0.2, random_state=42)\n",
    "\n",
    "# Verificamos las formas de los conjuntos de datos para ver si machean con los ya tratados y que se haya hecho el split de manera correcta\n",
    "print(X_train.shape, X_test.shape) \n",
    "print(y_train.shape, y_test.shape)  "
   ]
  },
  {
   "cell_type": "markdown",
   "metadata": {},
   "source": [
    "## Creación del modelo"
   ]
  },
  {
   "cell_type": "markdown",
   "metadata": {},
   "source": [
    "### Definición del modelo"
   ]
  },
  {
   "cell_type": "code",
   "execution_count": 11,
   "metadata": {},
   "outputs": [
    {
     "name": "stdout",
     "output_type": "stream",
     "text": [
      "input_shape: (5000, 12, 3)\n"
     ]
    }
   ],
   "source": [
    "from tensorflow.keras.applications import EfficientNetB5 # Los `primeros valores son con la B0, vamos a probar con la última\n",
    "from tensorflow.keras.layers import GlobalAveragePooling2D, Dense, Input, Dropout\n",
    "from tensorflow.keras.models import Model\n",
    "from tensorflow.keras.regularizers import l2\n",
    "import tensorflow as tf\n",
    "\n",
    "# Creamos un modelo EfficientNet\n",
    "def create_efficientnet(input_shape, num_classes):\n",
    "    inputs = Input(shape=input_shape)\n",
    "    base_model = EfficientNetB5(include_top=False, weights=None, input_tensor=inputs)\n",
    "    x = GlobalAveragePooling2D()(base_model.output)\n",
    "    x = Dense(1024, activation='relu', kernel_regularizer=l2(0.01))(x) # L2 regularization\n",
    "    x = Dropout(0.4)(x) # Dropout layer\n",
    "    outputs = Dense(num_classes, activation='sigmoid', kernel_regularizer=l2(0.01))(x) # Aplicamos sigmoid por el multi-label\n",
    "    model = Model(inputs=inputs, outputs=outputs)\n",
    "    return model\n",
    "\n",
    "num_classes = y_train.shape[1]\n",
    "input_shape = (X_train.shape[1], X_train.shape[2], 3)\n",
    "print(f'input_shape: {input_shape}')"
   ]
  },
  {
   "cell_type": "code",
   "execution_count": 12,
   "metadata": {},
   "outputs": [
    {
     "name": "stdout",
     "output_type": "stream",
     "text": [
      "Epoch 1/50\n",
      "\u001b[1m1025/1025\u001b[0m \u001b[32m━━━━━━━━━━━━━━━━━━━━\u001b[0m\u001b[37m\u001b[0m \u001b[1m0s\u001b[0m 3s/step - accuracy: 0.2821 - loss: 1.1811"
     ]
    },
    {
     "ename": "MemoryError",
     "evalue": "Unable to allocate 1.37 GiB for an array with shape (2050, 5000, 12, 3) and data type float32",
     "output_type": "error",
     "traceback": [
      "\u001b[1;31m---------------------------------------------------------------------------\u001b[0m",
      "\u001b[1;31mMemoryError\u001b[0m                               Traceback (most recent call last)",
      "Cell \u001b[1;32mIn[12], line 7\u001b[0m\n\u001b[0;32m      5\u001b[0m early_stopping \u001b[38;5;241m=\u001b[39m EarlyStopping(monitor\u001b[38;5;241m=\u001b[39m\u001b[38;5;124m'\u001b[39m\u001b[38;5;124mval_loss\u001b[39m\u001b[38;5;124m'\u001b[39m, patience\u001b[38;5;241m=\u001b[39m\u001b[38;5;241m10\u001b[39m, restore_best_weights\u001b[38;5;241m=\u001b[39m\u001b[38;5;28;01mTrue\u001b[39;00m)\n\u001b[0;32m      6\u001b[0m \u001b[38;5;66;03m# Entrenar el modelo\u001b[39;00m\n\u001b[1;32m----> 7\u001b[0m history \u001b[38;5;241m=\u001b[39m \u001b[43mmodel\u001b[49m\u001b[38;5;241;43m.\u001b[39;49m\u001b[43mfit\u001b[49m\u001b[43m(\u001b[49m\n\u001b[0;32m      8\u001b[0m \u001b[43m    \u001b[49m\u001b[43mX_train\u001b[49m\u001b[43m,\u001b[49m\u001b[43m \u001b[49m\n\u001b[0;32m      9\u001b[0m \u001b[43m    \u001b[49m\u001b[43my_train\u001b[49m\u001b[43m,\u001b[49m\u001b[43m \u001b[49m\n\u001b[0;32m     10\u001b[0m \u001b[43m    \u001b[49m\u001b[43mepochs\u001b[49m\u001b[38;5;241;43m=\u001b[39;49m\u001b[38;5;241;43m50\u001b[39;49m\u001b[43m,\u001b[49m\u001b[43m \u001b[49m\n\u001b[0;32m     11\u001b[0m \u001b[43m    \u001b[49m\u001b[43mbatch_size\u001b[49m\u001b[38;5;241;43m=\u001b[39;49m\u001b[38;5;241;43m8\u001b[39;49m\u001b[43m,\u001b[49m\n\u001b[0;32m     12\u001b[0m \u001b[43m    \u001b[49m\u001b[43mvalidation_data\u001b[49m\u001b[38;5;241;43m=\u001b[39;49m\u001b[43m(\u001b[49m\u001b[43mX_test\u001b[49m\u001b[43m,\u001b[49m\u001b[43m \u001b[49m\u001b[43my_test\u001b[49m\u001b[43m)\u001b[49m\u001b[43m,\u001b[49m\n\u001b[0;32m     13\u001b[0m \u001b[43m    \u001b[49m\u001b[43mcallbacks\u001b[49m\u001b[38;5;241;43m=\u001b[39;49m\u001b[43m[\u001b[49m\u001b[43mearly_stopping\u001b[49m\u001b[43m]\u001b[49m\n\u001b[0;32m     14\u001b[0m \u001b[43m)\u001b[49m\n\u001b[0;32m     16\u001b[0m \u001b[38;5;66;03m# Guardamos el modelo\u001b[39;00m\n\u001b[0;32m     17\u001b[0m model\u001b[38;5;241m.\u001b[39msave(\u001b[38;5;124m'\u001b[39m\u001b[38;5;124mefficientnet7_ecg_model.h5\u001b[39m\u001b[38;5;124m'\u001b[39m)\n",
      "File \u001b[1;32mc:\\Users\\Pedro\\anaconda3\\envs\\TFM\\lib\\site-packages\\keras\\src\\utils\\traceback_utils.py:122\u001b[0m, in \u001b[0;36mfilter_traceback.<locals>.error_handler\u001b[1;34m(*args, **kwargs)\u001b[0m\n\u001b[0;32m    119\u001b[0m     filtered_tb \u001b[38;5;241m=\u001b[39m _process_traceback_frames(e\u001b[38;5;241m.\u001b[39m__traceback__)\n\u001b[0;32m    120\u001b[0m     \u001b[38;5;66;03m# To get the full stack trace, call:\u001b[39;00m\n\u001b[0;32m    121\u001b[0m     \u001b[38;5;66;03m# `keras.config.disable_traceback_filtering()`\u001b[39;00m\n\u001b[1;32m--> 122\u001b[0m     \u001b[38;5;28;01mraise\u001b[39;00m e\u001b[38;5;241m.\u001b[39mwith_traceback(filtered_tb) \u001b[38;5;28;01mfrom\u001b[39;00m \u001b[38;5;28;01mNone\u001b[39;00m\n\u001b[0;32m    123\u001b[0m \u001b[38;5;28;01mfinally\u001b[39;00m:\n\u001b[0;32m    124\u001b[0m     \u001b[38;5;28;01mdel\u001b[39;00m filtered_tb\n",
      "File \u001b[1;32mc:\\Users\\Pedro\\anaconda3\\envs\\TFM\\lib\\site-packages\\optree\\ops.py:594\u001b[0m, in \u001b[0;36mtree_map\u001b[1;34m(func, tree, is_leaf, none_is_leaf, namespace, *rests)\u001b[0m\n\u001b[0;32m    592\u001b[0m leaves, treespec \u001b[38;5;241m=\u001b[39m _C\u001b[38;5;241m.\u001b[39mflatten(tree, is_leaf, none_is_leaf, namespace)\n\u001b[0;32m    593\u001b[0m flat_args \u001b[38;5;241m=\u001b[39m [leaves] \u001b[38;5;241m+\u001b[39m [treespec\u001b[38;5;241m.\u001b[39mflatten_up_to(r) \u001b[38;5;28;01mfor\u001b[39;00m r \u001b[38;5;129;01min\u001b[39;00m rests]\n\u001b[1;32m--> 594\u001b[0m \u001b[38;5;28;01mreturn\u001b[39;00m \u001b[43mtreespec\u001b[49m\u001b[38;5;241;43m.\u001b[39;49m\u001b[43munflatten\u001b[49m\u001b[43m(\u001b[49m\u001b[38;5;28;43mmap\u001b[39;49m\u001b[43m(\u001b[49m\u001b[43mfunc\u001b[49m\u001b[43m,\u001b[49m\u001b[43m \u001b[49m\u001b[38;5;241;43m*\u001b[39;49m\u001b[43mflat_args\u001b[49m\u001b[43m)\u001b[49m\u001b[43m)\u001b[49m\n",
      "\u001b[1;31mMemoryError\u001b[0m: Unable to allocate 1.37 GiB for an array with shape (2050, 5000, 12, 3) and data type float32"
     ]
    }
   ],
   "source": [
    "from tensorflow.keras.callbacks import EarlyStopping\n",
    "\n",
    "model = create_efficientnet(input_shape=input_shape, num_classes=num_classes) # Crear el modelo\n",
    "model.compile(optimizer='adam', loss='binary_crossentropy', metrics=['accuracy'])# Compilar el modelo\n",
    "early_stopping = EarlyStopping(monitor='val_loss', patience=10, restore_best_weights=True)\n",
    "# Entrenar el modelo\n",
    "history = model.fit(\n",
    "    X_train, \n",
    "    y_train, \n",
    "    epochs=50, \n",
    "    batch_size=8,\n",
    "    validation_data=(X_test, y_test),\n",
    "    callbacks=[early_stopping]\n",
    ")\n",
    "\n",
    "# Guardamos el modelo\n",
    "model.save('efficientnet7_ecg_model.h5')"
   ]
  },
  {
   "cell_type": "code",
   "execution_count": null,
   "metadata": {},
   "outputs": [
    {
     "ename": "NameError",
     "evalue": "name 'history' is not defined",
     "output_type": "error",
     "traceback": [
      "\u001b[1;31m---------------------------------------------------------------------------\u001b[0m",
      "\u001b[1;31mNameError\u001b[0m                                 Traceback (most recent call last)",
      "Cell \u001b[1;32mIn[1], line 6\u001b[0m\n\u001b[0;32m      4\u001b[0m plt\u001b[38;5;241m.\u001b[39mfigure(figsize\u001b[38;5;241m=\u001b[39m(\u001b[38;5;241m10\u001b[39m, \u001b[38;5;241m5\u001b[39m))\n\u001b[0;32m      5\u001b[0m plt\u001b[38;5;241m.\u001b[39msubplot(\u001b[38;5;241m1\u001b[39m, \u001b[38;5;241m2\u001b[39m, \u001b[38;5;241m1\u001b[39m)\n\u001b[1;32m----> 6\u001b[0m plt\u001b[38;5;241m.\u001b[39mplot(\u001b[43mhistory\u001b[49m\u001b[38;5;241m.\u001b[39mhistory[\u001b[38;5;124m'\u001b[39m\u001b[38;5;124maccuracy\u001b[39m\u001b[38;5;124m'\u001b[39m], label\u001b[38;5;241m=\u001b[39m\u001b[38;5;124m'\u001b[39m\u001b[38;5;124mTrain Accuracy\u001b[39m\u001b[38;5;124m'\u001b[39m)\n\u001b[0;32m      7\u001b[0m plt\u001b[38;5;241m.\u001b[39mplot(history\u001b[38;5;241m.\u001b[39mhistory[\u001b[38;5;124m'\u001b[39m\u001b[38;5;124mval_accuracy\u001b[39m\u001b[38;5;124m'\u001b[39m], label\u001b[38;5;241m=\u001b[39m\u001b[38;5;124m'\u001b[39m\u001b[38;5;124mValidation Accuracy\u001b[39m\u001b[38;5;124m'\u001b[39m)\n\u001b[0;32m      8\u001b[0m plt\u001b[38;5;241m.\u001b[39mtitle(\u001b[38;5;124m'\u001b[39m\u001b[38;5;124mModel Accuracy\u001b[39m\u001b[38;5;124m'\u001b[39m)\n",
      "\u001b[1;31mNameError\u001b[0m: name 'history' is not defined"
     ]
    },
    {
     "data": {
      "image/png": "[encoded data removed]",
      "text/plain": [
       "<Figure size 1000x500 with 1 Axes>"
      ]
     },
     "metadata": {},
     "output_type": "display_data"
    }
   ],
   "source": [
    "import matplotlib.pyplot as plt\n",
    "\n",
    "# Precisión\n",
    "plt.figure(figsize=(10, 5))\n",
    "plt.subplot(1, 2, 1)\n",
    "plt.plot(history.history['accuracy'], label='Train Accuracy')\n",
    "plt.plot(history.history['val_accuracy'], label='Validation Accuracy')\n",
    "plt.title('Model Accuracy')\n",
    "plt.xlabel('Epoch')\n",
    "plt.ylabel('Accuracy')\n",
    "plt.legend()\n",
    "\n",
    "# Pérdida\n",
    "plt.subplot(1, 2, 2)\n",
    "plt.plot(history.history['loss'], label='Train Loss')\n",
    "plt.plot(history.history['val_loss'], label='Validation Loss')\n",
    "plt.title('Model Loss')\n",
    "plt.xlabel('Epoch')\n",
    "plt.ylabel('Loss')\n",
    "plt.legend()\n",
    "\n",
    "plt.show()\n"
   ]
  }
 ],
 "metadata": {
  "kernelspec": {
   "display_name": "TFM",
   "language": "python",
   "name": "python3"
  },
  "language_info": {
   "codemirror_mode": {
    "name": "ipython",
    "version": 3
   },
   "file_extension": ".py",
   "mimetype": "text/x-python",
   "name": "python",
   "nbconvert_exporter": "python",
   "pygments_lexer": "ipython3",
   "version": "3.10.14"
  }
 },
 "nbformat": 4,
 "nbformat_minor": 2
}
