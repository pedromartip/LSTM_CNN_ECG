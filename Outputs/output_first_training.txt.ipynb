Epoch 1/50
[1m513/513[0m [32m━━━━━━━━━━━━━━━━━━━━[0m[37m[0m [1m841s[0m 2s/step - accuracy: 0.4381 - loss: 0.1104 - val_accuracy: 0.3990 - val_loss: 0.1490
Epoch 2/50
[1m513/513[0m [32m━━━━━━━━━━━━━━━━━━━━[0m[37m[0m [1m828s[0m 2s/step - accuracy: 0.6423 - loss: 0.0638 - val_accuracy: 0.6444 - val_loss: 0.0614
Epoch 3/50
[1m513/513[0m [32m━━━━━━━━━━━━━━━━━━━━[0m[37m[0m [1m828s[0m 2s/step - accuracy: 0.6687 - loss: 0.0572 - val_accuracy: 0.6761 - val_loss: 0.0572
Epoch 4/50
[1m513/513[0m [32m━━━━━━━━━━━━━━━━━━━━[0m[37m[0m [1m827s[0m 2s/step - accuracy: 0.6888 - loss: 0.0521 - val_accuracy: 0.6629 - val_loss: 0.0514
Epoch 5/50
[1m513/513[0m [32m━━━━━━━━━━━━━━━━━━━━[0m[37m[0m [1m830s[0m 2s/step - accuracy: 0.6925 - loss: 0.0488 - val_accuracy: 0.7024 - val_loss: 0.0505
Epoch 6/50
[1m513/513[0m [32m━━━━━━━━━━━━━━━━━━━━[0m[37m[0m [1m830s[0m 2s/step - accuracy: 0.6870 - loss: 0.0471 - val_accuracy: 0.6766 - val_loss: 0.0520
Epoch 7/50
[1m513/513[0m [32m━━━━━━━━━━━━━━━━━━━━[0m[37m[0m [1m830s[0m 2s/step - accuracy: 0.7004 - loss: 0.0449 - val_accuracy: 0.6971 - val_loss: 0.0488
Epoch 8/50
[1m513/513[0m [32m━━━━━━━━━━━━━━━━━━━━[0m[37m[0m [1m836s[0m 2s/step - accuracy: 0.7117 - loss: 0.0428 - val_accuracy: 0.7190 - val_loss: 0.0472
Epoch 9/50
[1m513/513[0m [32m━━━━━━━━━━━━━━━━━━━━[0m[37m[0m [1m840s[0m 2s/step - accuracy: 0.7082 - loss: 0.0411 - val_accuracy: 0.7117 - val_loss: 0.0443
Epoch 10/50
[1m513/513[0m [32m━━━━━━━━━━━━━━━━━━━━[0m[37m[0m [1m832s[0m 2s/step - accuracy: 0.7219 - loss: 0.0384 - val_accuracy: 0.7259 - val_loss: 0.0453
Epoch 11/50
[1m513/513[0m [32m━━━━━━━━━━━━━━━━━━━━[0m[37m[0m [1m28390s[0m 55s/step - accuracy: 0.7189 - loss: 0.0385 - val_accuracy: 0.6941 - val_loss: 0.0465
Epoch 12/50
[1m513/513[0m [32m━━━━━━━━━━━━━━━━━━━━[0m[37m[0m [1m830s[0m 2s/step - accuracy: 0.7311 - loss: 0.0362 - val_accuracy: 0.7215 - val_loss: 0.0464
Epoch 13/50
[1m513/513[0m [32m━━━━━━━━━━━━━━━━━━━━[0m[37m[0m [1m826s[0m 2s/step - accuracy: 0.7276 - loss: 0.0361 - val_accuracy: 0.7161 - val_loss: 0.0447
Epoch 14/50
[1m513/513[0m [32m━━━━━━━━━━━━━━━━━━━━[0m[37m[0m [1m827s[0m 2s/step - accuracy: 0.7308 - loss: 0.0343 - val_accuracy: 0.7146 - val_loss: 0.0459
Epoch 15/50
[1m513/513[0m [32m━━━━━━━━━━━━━━━━━━━━[0m[37m[0m [1m828s[0m 2s/step - accuracy: 0.7351 - loss: 0.0323 - val_accuracy: 0.7034 - val_loss: 0.0457
Epoch 16/50
[1m513/513[0m [32m━━━━━━━━━━━━━━━━━━━━[0m[37m[0m [1m829s[0m 2s/step - accuracy: 0.7390 - loss: 0.0309 - val_accuracy: 0.7137 - val_loss: 0.0462
Epoch 17/50
[1m513/513[0m [32m━━━━━━━━━━━━━━━━━━━━[0m[37m[0m [1m830s[0m 2s/step - accuracy: 0.7409 - loss: 0.0299 - val_accuracy: 0.7229 - val_loss: 0.0478
Epoch 18/50
[1m513/513[0m [32m━━━━━━━━━━━━━━━━━━━━[0m[37m[0m [1m832s[0m 2s/step - accuracy: 0.7361 - loss: 0.0291 - val_accuracy: 0.7156 - val_loss: 0.0489
Epoch 19/50
[1m513/513[0m [32m━━━━━━━━━━━━━━━━━━━━[0m[37m[0m [1m827s[0m 2s/step - accuracy: 0.7328 - loss: 0.0279 - val_accuracy: 0.7151 - val_loss: 0.0454
Epoch 20/50
[1m513/513[0m [32m━━━━━━━━━━━━━━━━━━━━[0m[37m[0m [1m830s[0m 2s/step - accuracy: 0.7392 - loss: 0.0278 - val_accuracy: 0.7068 - val_loss: 0.0487
Epoch 21/50
[1m513/513[0m [32m━━━━━━━━━━━━━━━━━━━━[0m[37m[0m [1m832s[0m 2s/step - accuracy: 0.7347 - loss: 0.0267 - val_accuracy: 0.7190 - val_loss: 0.0472
Epoch 22/50
[1m513/513[0m [32m━━━━━━━━━━━━━━━━━━━━[0m[37m[0m [1m833s[0m 2s/step - accuracy: 0.7389 - loss: 0.0256 - val_accuracy: 0.7268 - val_loss: 0.0481
Epoch 23/50
[1m513/513[0m [32m━━━━━━━━━━━━━━━━━━━━[0m[37m[0m [1m833s[0m 2s/step - accuracy: 0.7383 - loss: 0.0250 - val_accuracy: 0.6980 - val_loss: 0.0520
Epoch 24/50
[1m513/513[0m [32m━━━━━━━━━━━━━━━━━━━━[0m[37m[0m [1m839s[0m 2s/step - accuracy: 0.7449 - loss: 0.0242 - val_accuracy: 0.7044 - val_loss: 0.0511
Epoch 25/50
[1m513/513[0m [32m━━━━━━━━━━━━━━━━━━━━[0m[37m[0m [1m842s[0m 2s/step - accuracy: 0.7431 - loss: 0.0221 - val_accuracy: 0.7190 - val_loss: 0.0529
Epoch 26/50
[1m513/513[0m [32m━━━━━━━━━━━━━━━━━━━━[0m[37m[0m [1m841s[0m 2s/step - accuracy: 0.7440 - loss: 0.0222 - val_accuracy: 0.7185 - val_loss: 0.0548
Epoch 27/50
[1m513/513[0m [32m━━━━━━━━━━━━━━━━━━━━[0m[37m[0m [1m843s[0m 2s/step - accuracy: 0.7462 - loss: 0.0208 - val_accuracy: 0.7112 - val_loss: 0.0574
Epoch 28/50
[1m513/513[0m [32m━━━━━━━━━━━━━━━━━━━━[0m[37m[0m [1m842s[0m 2s/step - accuracy: 0.7522 - loss: 0.0190 - val_accuracy: 0.7141 - val_loss: 0.0544
Epoch 29/50
[1m513/513[0m [32m━━━━━━━━━━━━━━━━━━━━[0m[37m[0m [1m843s[0m 2s/step - accuracy: 0.7453 - loss: 0.0186 - val_accuracy: 0.7146 - val_loss: 0.0631
Epoch 30/50
[1m513/513[0m [32m━━━━━━━━━━━━━━━━━━━━[0m[37m[0m [1m843s[0m 2s/step - accuracy: 0.7528 - loss: 0.0174 - val_accuracy: 0.7146 - val_loss: 0.0585
Epoch 31/50
[1m513/513[0m [32m━━━━━━━━━━━━━━━━━━━━[0m[37m[0m [1m845s[0m 2s/step - accuracy: 0.7557 - loss: 0.0164 - val_accuracy: 0.6971 - val_loss: 0.0579
Epoch 32/50
[1m513/513[0m [32m━━━━━━━━━━━━━━━━━━━━[0m[37m[0m [1m847s[0m 2s/step - accuracy: 0.7525 - loss: 0.0169 - val_accuracy: 0.7156 - val_loss: 0.0596
Epoch 33/50
[1m513/513[0m [32m━━━━━━━━━━━━━━━━━━━━[0m[37m[0m [1m844s[0m 2s/step - accuracy: 0.7368 - loss: 0.0152 - val_accuracy: 0.7190 - val_loss: 0.0622
Epoch 34/50
[1m513/513[0m [32m━━━━━━━━━━━━━━━━━━━━[0m[37m[0m [1m844s[0m 2s/step - accuracy: 0.7530 - loss: 0.0159 - val_accuracy: 0.7146 - val_loss: 0.0623
Epoch 35/50
[1m513/513[0m [32m━━━━━━━━━━━━━━━━━━━━[0m[37m[0m [1m843s[0m 2s/step - accuracy: 0.7438 - loss: 0.0153 - val_accuracy: 0.7166 - val_loss: 0.0633
Epoch 36/50
[1m513/513[0m [32m━━━━━━━━━━━━━━━━━━━━[0m[37m[0m [1m848s[0m 2s/step - accuracy: 0.7405 - loss: 0.0153 - val_accuracy: 0.7010 - val_loss: 0.0679
Epoch 37/50
[1m513/513[0m [32m━━━━━━━━━━━━━━━━━━━━[0m[37m[0m [1m841s[0m 2s/step - accuracy: 0.7532 - loss: 0.0150 - val_accuracy: 0.7054 - val_loss: 0.0616
Epoch 38/50
[1m513/513[0m [32m━━━━━━━━━━━━━━━━━━━━[0m[37m[0m [1m842s[0m 2s/step - accuracy: 0.7543 - loss: 0.0134 - val_accuracy: 0.7083 - val_loss: 0.0683
Epoch 39/50
[1m513/513[0m [32m━━━━━━━━━━━━━━━━━━━━[0m[37m[0m [1m843s[0m 2s/step - accuracy: 0.7616 - loss: 0.0121 - val_accuracy: 0.7176 - val_loss: 0.0700
Epoch 40/50
[1m513/513[0m [32m━━━━━━━━━━━━━━━━━━━━[0m[37m[0m [1m843s[0m 2s/step - accuracy: 0.7484 - loss: 0.0126 - val_accuracy: 0.7068 - val_loss: 0.0759
Epoch 41/50
[1m513/513[0m [32m━━━━━━━━━━━━━━━━━━━━[0m[37m[0m [1m843s[0m 2s/step - accuracy: 0.7451 - loss: 0.0124 - val_accuracy: 0.7127 - val_loss: 0.0724
Epoch 42/50
[1m513/513[0m [32m━━━━━━━━━━━━━━━━━━━━[0m[37m[0m [1m842s[0m 2s/step - accuracy: 0.7496 - loss: 0.0105 - val_accuracy: 0.7112 - val_loss: 0.0762
Epoch 43/50
[1m513/513[0m [32m━━━━━━━━━━━━━━━━━━━━[0m[37m[0m [1m841s[0m 2s/step - accuracy: 0.7522 - loss: 0.0102 - val_accuracy: 0.7083 - val_loss: 0.0750
Epoch 44/50
[1m513/513[0m [32m━━━━━━━━━━━━━━━━━━━━[0m[37m[0m [1m843s[0m 2s/step - accuracy: 0.7529 - loss: 0.0107 - val_accuracy: 0.7141 - val_loss: 0.0782
Epoch 45/50
[1m513/513[0m [32m━━━━━━━━━━━━━━━━━━━━[0m[37m[0m [1m839s[0m 2s/step - accuracy: 0.7523 - loss: 0.0095 - val_accuracy: 0.7005 - val_loss: 0.0776
Epoch 46/50
[1m513/513[0m [32m━━━━━━━━━━━━━━━━━━━━[0m[37m[0m [1m839s[0m 2s/step - accuracy: 0.7490 - loss: 0.0095 - val_accuracy: 0.7288 - val_loss: 0.0818
Epoch 47/50
[1m513/513[0m [32m━━━━━━━━━━━━━━━━━━━━[0m[37m[0m [1m839s[0m 2s/step - accuracy: 0.7522 - loss: 0.0090 - val_accuracy: 0.7073 - val_loss: 0.0743
Epoch 48/50
[1m513/513[0m [32m━━━━━━━━━━━━━━━━━━━━[0m[37m[0m [1m839s[0m 2s/step - accuracy: 0.7578 - loss: 0.0104 - val_accuracy: 0.7005 - val_loss: 0.0828
Epoch 49/50
[1m513/513[0m [32m━━━━━━━━━━━━━━━━━━━━[0m[37m[0m [1m839s[0m 2s/step - accuracy: 0.7519 - loss: 0.0082 - val_accuracy: 0.7220 - val_loss: 0.0822
Epoch 50/50
[1m513/513[0m [32m━━━━━━━━━━━━━━━━━━━━[0m[37m[0m [1m841s[0m 2s/step - accuracy: 0.7512 - loss: 0.0088 - val_accuracy: 0.6907 - val_loss: 0.0816
